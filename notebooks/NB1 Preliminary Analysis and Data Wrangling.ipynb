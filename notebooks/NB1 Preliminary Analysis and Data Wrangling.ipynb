{
    "cells": [
        {
            "attachments": {},
            "cell_type": "markdown",
            "metadata": {},
            "source": [
                "<font style='font-size:1.5em'>**NOTEBOOK TITLE**</font>\n",
                "\n",
                "<font style='font-size:1.2em'>Notebook Subtitle</font>\n",
                "\n",
                "**AUTHOR:**  \n",
                "\n",
                "**DEPARTMENT:** \n",
                "\n",
                "**DATE:** \n",
                "\n",
                "---\n"
            ]
        },
        {
            "cell_type": "markdown",
            "metadata": {},
            "source": [
                "## Imports \n",
                "Section with library imports."
            ]
        },
        {
            "cell_type": "code",
            "execution_count": null,
            "metadata": {},
            "outputs": [],
            "source": []
        },
        {
            "cell_type": "markdown",
            "metadata": {},
            "source": [
                "### Default functions\n",
                "Section with some general functions used over the notebook"
            ]
        },
        {
            "cell_type": "code",
            "execution_count": null,
            "metadata": {},
            "outputs": [],
            "source": []
        },
        {
            "attachments": {},
            "cell_type": "markdown",
            "metadata": {},
            "source": [
                "# Data\n",
                "\n",
                "Describe using markdown or code what data will be needed for the notebook, and how one can get it."
            ]
        },
        {
            "cell_type": "markdown",
            "metadata": {},
            "source": [
                "# 1st section name\n",
                "## 1st subsection name"
            ]
        },
        {
            "cell_type": "code",
            "execution_count": null,
            "metadata": {},
            "outputs": [],
            "source": []
        },
        {
            "cell_type": "code",
            "execution_count": null,
            "metadata": {},
            "outputs": [],
            "source": []
        },
        {
            "cell_type": "markdown",
            "metadata": {},
            "source": [
                "# 2nd section name\n",
                "## 1st subsection name"
            ]
        },
        {
            "cell_type": "code",
            "execution_count": null,
            "metadata": {},
            "outputs": [],
            "source": []
        },
        {
            "cell_type": "code",
            "execution_count": null,
            "metadata": {},
            "outputs": [],
            "source": []
        },
        {
            "cell_type": "markdown",
            "metadata": {},
            "source": [
                "# Conclusions\n",
                "Whats are the main discoveries?\n"
            ]
        }
    ],
    "metadata": {
        "language_info": {
            "name": "python"
        },
        "orig_nbformat": 4
    },
    "nbformat": 4,
    "nbformat_minor": 2
}
