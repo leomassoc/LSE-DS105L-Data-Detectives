{
 "cells": [
  {
   "cell_type": "code",
   "execution_count": 1,
   "metadata": {},
   "outputs": [],
   "source": [
    "#Required imports for the project\n",
    "import requests # for api requests\n",
    "import pandas as pd #tabular data\n",
    "\n"
   ]
  },
  {
   "cell_type": "code",
   "execution_count": 2,
   "metadata": {},
   "outputs": [],
   "source": [
    "api_key = \"07e7023663c44b8f1179b4918403f04506e6264b\""
   ]
  },
  {
   "cell_type": "code",
   "execution_count": 3,
   "metadata": {},
   "outputs": [],
   "source": [
    "#creating a dataframe function\n",
    "def json_to_dataframe(response):\n",
    "    return pd.DataFrame(response.json()[1:], columns=response.json()[0])\n",
    "# "
   ]
  },
  {
   "cell_type": "code",
   "execution_count": 4,
   "metadata": {},
   "outputs": [],
   "source": [
    "#Setting up the API Query parameters for the \n",
    "params1 = {\"NAICS2017\" : 61}"
   ]
  },
  {
   "cell_type": "code",
   "execution_count": 5,
   "metadata": {},
   "outputs": [],
   "source": [
    "#Requesting the json file from the census website using the api key\n",
    "url = \"https://api.census.gov/data/2017/ecnbasic?get=NAICS2017_LABEL,NAICS2017,GEO_ID,FIRM&for=county:*&key={}\".format(api_key)\n",
    "response = requests.request(\"GET\", url, params=params1)"
   ]
  },
  {
   "cell_type": "code",
   "execution_count": 6,
   "metadata": {},
   "outputs": [
    {
     "data": {
      "text/plain": [
       "'[[\"NAICS2017_LABEL\",\"NAICS2017\",\"GEO_ID\",\"FIRM\",\"NAICS2017\",\"state\",\"county\"]'"
      ]
     },
     "execution_count": 6,
     "metadata": {},
     "output_type": "execute_result"
    }
   ],
   "source": [
    "response.text[0:77]"
   ]
  },
  {
   "cell_type": "code",
   "execution_count": 7,
   "metadata": {},
   "outputs": [],
   "source": [
    "#Converting ecn data frame into pandas data frame\n",
    "educational_services = json_to_dataframe(response)\n",
    "df = pd.DataFrame(data = educational_services)\n",
    "df['FIRM'] = df['FIRM'].astype(int)\n",
    "df['state'] = df['state'].astype(\"string\")\n",
    "df_california1 = df[df['state'] == '06']"
   ]
  },
  {
   "cell_type": "code",
   "execution_count": 8,
   "metadata": {},
   "outputs": [
    {
     "name": "stdout",
     "output_type": "stream",
     "text": [
      "Top 10 counties with the most amount of educational services in California\n"
     ]
    },
    {
     "data": {
      "text/html": [
       "<div>\n",
       "<style scoped>\n",
       "    .dataframe tbody tr th:only-of-type {\n",
       "        vertical-align: middle;\n",
       "    }\n",
       "\n",
       "    .dataframe tbody tr th {\n",
       "        vertical-align: top;\n",
       "    }\n",
       "\n",
       "    .dataframe thead th {\n",
       "        text-align: right;\n",
       "    }\n",
       "</style>\n",
       "<table border=\"1\" class=\"dataframe\">\n",
       "  <thead>\n",
       "    <tr style=\"text-align: right;\">\n",
       "      <th></th>\n",
       "      <th>NAICS2017_LABEL</th>\n",
       "      <th>NAICS2017</th>\n",
       "      <th>GEO_ID</th>\n",
       "      <th>FIRM</th>\n",
       "      <th>NAICS2017</th>\n",
       "      <th>state</th>\n",
       "      <th>county</th>\n",
       "    </tr>\n",
       "  </thead>\n",
       "  <tbody>\n",
       "    <tr>\n",
       "      <th>299</th>\n",
       "      <td>Educational services</td>\n",
       "      <td>61</td>\n",
       "      <td>0500000US06037</td>\n",
       "      <td>2787</td>\n",
       "      <td>61</td>\n",
       "      <td>06</td>\n",
       "      <td>037</td>\n",
       "    </tr>\n",
       "    <tr>\n",
       "      <th>315</th>\n",
       "      <td>Educational services</td>\n",
       "      <td>61</td>\n",
       "      <td>0500000US06059</td>\n",
       "      <td>1187</td>\n",
       "      <td>61</td>\n",
       "      <td>06</td>\n",
       "      <td>059</td>\n",
       "    </tr>\n",
       "    <tr>\n",
       "      <th>330</th>\n",
       "      <td>Educational services</td>\n",
       "      <td>61</td>\n",
       "      <td>0500000US06073</td>\n",
       "      <td>1010</td>\n",
       "      <td>61</td>\n",
       "      <td>06</td>\n",
       "      <td>073</td>\n",
       "    </tr>\n",
       "    <tr>\n",
       "      <th>302</th>\n",
       "      <td>Educational services</td>\n",
       "      <td>61</td>\n",
       "      <td>0500000US06085</td>\n",
       "      <td>822</td>\n",
       "      <td>61</td>\n",
       "      <td>06</td>\n",
       "      <td>085</td>\n",
       "    </tr>\n",
       "    <tr>\n",
       "      <th>233</th>\n",
       "      <td>Educational services</td>\n",
       "      <td>61</td>\n",
       "      <td>0500000US06001</td>\n",
       "      <td>693</td>\n",
       "      <td>61</td>\n",
       "      <td>06</td>\n",
       "      <td>001</td>\n",
       "    </tr>\n",
       "    <tr>\n",
       "      <th>238</th>\n",
       "      <td>Educational services</td>\n",
       "      <td>61</td>\n",
       "      <td>0500000US06075</td>\n",
       "      <td>470</td>\n",
       "      <td>61</td>\n",
       "      <td>06</td>\n",
       "      <td>075</td>\n",
       "    </tr>\n",
       "    <tr>\n",
       "      <th>234</th>\n",
       "      <td>Educational services</td>\n",
       "      <td>61</td>\n",
       "      <td>0500000US06067</td>\n",
       "      <td>334</td>\n",
       "      <td>61</td>\n",
       "      <td>06</td>\n",
       "      <td>067</td>\n",
       "    </tr>\n",
       "    <tr>\n",
       "      <th>319</th>\n",
       "      <td>Educational services</td>\n",
       "      <td>61</td>\n",
       "      <td>0500000US06081</td>\n",
       "      <td>323</td>\n",
       "      <td>61</td>\n",
       "      <td>06</td>\n",
       "      <td>081</td>\n",
       "    </tr>\n",
       "    <tr>\n",
       "      <th>300</th>\n",
       "      <td>Educational services</td>\n",
       "      <td>61</td>\n",
       "      <td>0500000US06065</td>\n",
       "      <td>313</td>\n",
       "      <td>61</td>\n",
       "      <td>06</td>\n",
       "      <td>065</td>\n",
       "    </tr>\n",
       "    <tr>\n",
       "      <th>227</th>\n",
       "      <td>Educational services</td>\n",
       "      <td>61</td>\n",
       "      <td>0500000US06013</td>\n",
       "      <td>295</td>\n",
       "      <td>61</td>\n",
       "      <td>06</td>\n",
       "      <td>013</td>\n",
       "    </tr>\n",
       "  </tbody>\n",
       "</table>\n",
       "</div>"
      ],
      "text/plain": [
       "          NAICS2017_LABEL NAICS2017          GEO_ID  FIRM NAICS2017 state  \\\n",
       "299  Educational services        61  0500000US06037  2787        61    06   \n",
       "315  Educational services        61  0500000US06059  1187        61    06   \n",
       "330  Educational services        61  0500000US06073  1010        61    06   \n",
       "302  Educational services        61  0500000US06085   822        61    06   \n",
       "233  Educational services        61  0500000US06001   693        61    06   \n",
       "238  Educational services        61  0500000US06075   470        61    06   \n",
       "234  Educational services        61  0500000US06067   334        61    06   \n",
       "319  Educational services        61  0500000US06081   323        61    06   \n",
       "300  Educational services        61  0500000US06065   313        61    06   \n",
       "227  Educational services        61  0500000US06013   295        61    06   \n",
       "\n",
       "    county  \n",
       "299    037  \n",
       "315    059  \n",
       "330    073  \n",
       "302    085  \n",
       "233    001  \n",
       "238    075  \n",
       "234    067  \n",
       "319    081  \n",
       "300    065  \n",
       "227    013  "
      ]
     },
     "execution_count": 8,
     "metadata": {},
     "output_type": "execute_result"
    }
   ],
   "source": [
    "# Top 5 counties with largest number of educational services\n",
    "df_c_sort = df_california1\\\n",
    ".sort_values(by=['FIRM'], ascending=False)\\\n",
    ".head(10)\n",
    "print('Top 10 counties with the most amount of educational services in California')\n",
    "df_c_sort"
   ]
  },
  {
   "cell_type": "code",
   "execution_count": 9,
   "metadata": {},
   "outputs": [],
   "source": [
    "#Setting the params\n",
    "params2 = {\"state\" : \"06\"}"
   ]
  },
  {
   "cell_type": "code",
   "execution_count": 10,
   "metadata": {},
   "outputs": [],
   "source": [
    "#Getting the ACS data\n",
    "#Requesting the json file from the census website using the api key \n",
    "url = \"https://api.census.gov/data/2017/acs/acs1/profile?get=DP02_0064PE,DP02_0088PE,DP02_0123PE&for=county&key={}\".format(api_key)\n",
    "response2 = requests.request(\"GET\", url)"
   ]
  },
  {
   "cell_type": "code",
   "execution_count": 11,
   "metadata": {},
   "outputs": [
    {
     "data": {
      "text/plain": [
       "'[[\"DP02_0064PE\",\"DP02_0088PE\",\"DP02_0123PE\",\"state\",\"county\"]'"
      ]
     },
     "execution_count": 11,
     "metadata": {},
     "output_type": "execute_result"
    }
   ],
   "source": [
    "#Seeing what the columns for the data are\n",
    "response2.text[0:61]\n",
    "#Meaning of variables\n",
    "#DP02_0064PE = Percent!!EDUCATIONAL ATTAINMENT!!Population 25 years and over!!Bachelor's degree\n",
    "#DP02_0088PE = Percent!!PLACE OF BIRTH!!Total population!!Native!!Born in United States \n",
    "#DP02_0123PE = Percent!!ANCESTRY!!Total population!!American"
   ]
  },
  {
   "cell_type": "code",
   "execution_count": 12,
   "metadata": {},
   "outputs": [],
   "source": [
    "pop_chars = json_to_dataframe(response2)\n",
    "df = pd.DataFrame(data = pop_chars)\n",
    "df_california2 = df[df['state'] == '06']"
   ]
  },
  {
   "cell_type": "code",
   "execution_count": 13,
   "metadata": {},
   "outputs": [
    {
     "data": {
      "text/html": [
       "<div>\n",
       "<style scoped>\n",
       "    .dataframe tbody tr th:only-of-type {\n",
       "        vertical-align: middle;\n",
       "    }\n",
       "\n",
       "    .dataframe tbody tr th {\n",
       "        vertical-align: top;\n",
       "    }\n",
       "\n",
       "    .dataframe thead th {\n",
       "        text-align: right;\n",
       "    }\n",
       "</style>\n",
       "<table border=\"1\" class=\"dataframe\">\n",
       "  <thead>\n",
       "    <tr style=\"text-align: right;\">\n",
       "      <th></th>\n",
       "      <th>NAICS2017_LABEL</th>\n",
       "      <th>NAICS2017</th>\n",
       "      <th>GEO_ID</th>\n",
       "      <th>FIRM</th>\n",
       "      <th>NAICS2017</th>\n",
       "      <th>state_x</th>\n",
       "      <th>county</th>\n",
       "      <th>DP02_0064PE</th>\n",
       "      <th>DP02_0088PE</th>\n",
       "      <th>DP02_0123PE</th>\n",
       "      <th>state_y</th>\n",
       "    </tr>\n",
       "  </thead>\n",
       "  <tbody>\n",
       "    <tr>\n",
       "      <th>0</th>\n",
       "      <td>Educational services</td>\n",
       "      <td>61</td>\n",
       "      <td>0500000US06047</td>\n",
       "      <td>13</td>\n",
       "      <td>61</td>\n",
       "      <td>06</td>\n",
       "      <td>047</td>\n",
       "      <td>8.7</td>\n",
       "      <td>74.4</td>\n",
       "      <td>1.7</td>\n",
       "      <td>06</td>\n",
       "    </tr>\n",
       "    <tr>\n",
       "      <th>1</th>\n",
       "      <td>Educational services</td>\n",
       "      <td>61</td>\n",
       "      <td>0500000US06033</td>\n",
       "      <td>8</td>\n",
       "      <td>61</td>\n",
       "      <td>06</td>\n",
       "      <td>033</td>\n",
       "      <td>9.5</td>\n",
       "      <td>91.8</td>\n",
       "      <td>2.3</td>\n",
       "      <td>06</td>\n",
       "    </tr>\n",
       "    <tr>\n",
       "      <th>2</th>\n",
       "      <td>Educational services</td>\n",
       "      <td>61</td>\n",
       "      <td>0500000US06115</td>\n",
       "      <td>0</td>\n",
       "      <td>61</td>\n",
       "      <td>06</td>\n",
       "      <td>115</td>\n",
       "      <td>13.9</td>\n",
       "      <td>85.4</td>\n",
       "      <td>2.1</td>\n",
       "      <td>06</td>\n",
       "    </tr>\n",
       "    <tr>\n",
       "      <th>3</th>\n",
       "      <td>Educational services</td>\n",
       "      <td>61</td>\n",
       "      <td>0500000US06013</td>\n",
       "      <td>295</td>\n",
       "      <td>61</td>\n",
       "      <td>06</td>\n",
       "      <td>013</td>\n",
       "      <td>26.7</td>\n",
       "      <td>72.9</td>\n",
       "      <td>2.7</td>\n",
       "      <td>06</td>\n",
       "    </tr>\n",
       "    <tr>\n",
       "      <th>4</th>\n",
       "      <td>Educational services</td>\n",
       "      <td>61</td>\n",
       "      <td>0500000US06099</td>\n",
       "      <td>71</td>\n",
       "      <td>61</td>\n",
       "      <td>06</td>\n",
       "      <td>099</td>\n",
       "      <td>12.0</td>\n",
       "      <td>77.3</td>\n",
       "      <td>3.0</td>\n",
       "      <td>06</td>\n",
       "    </tr>\n",
       "  </tbody>\n",
       "</table>\n",
       "</div>"
      ],
      "text/plain": [
       "        NAICS2017_LABEL NAICS2017          GEO_ID  FIRM NAICS2017 state_x  \\\n",
       "0  Educational services        61  0500000US06047    13        61      06   \n",
       "1  Educational services        61  0500000US06033     8        61      06   \n",
       "2  Educational services        61  0500000US06115     0        61      06   \n",
       "3  Educational services        61  0500000US06013   295        61      06   \n",
       "4  Educational services        61  0500000US06099    71        61      06   \n",
       "\n",
       "  county DP02_0064PE DP02_0088PE DP02_0123PE state_y  \n",
       "0    047         8.7        74.4         1.7      06  \n",
       "1    033         9.5        91.8         2.3      06  \n",
       "2    115        13.9        85.4         2.1      06  \n",
       "3    013        26.7        72.9         2.7      06  \n",
       "4    099        12.0        77.3         3.0      06  "
      ]
     },
     "execution_count": 13,
     "metadata": {},
     "output_type": "execute_result"
    }
   ],
   "source": [
    "#Merging the two datasets\n",
    "merged_census = pd.merge(df_california1, df_california2, on='county')\n",
    "merged_census.head()"
   ]
  }
 ],
 "metadata": {
  "kernelspec": {
   "display_name": "Python 3",
   "language": "python",
   "name": "python3"
  },
  "language_info": {
   "codemirror_mode": {
    "name": "ipython",
    "version": 3
   },
   "file_extension": ".py",
   "mimetype": "text/x-python",
   "name": "python",
   "nbconvert_exporter": "python",
   "pygments_lexer": "ipython3",
   "version": "3.10.6"
  },
  "orig_nbformat": 4,
  "vscode": {
   "interpreter": {
    "hash": "916dbcbb3f70747c44a77c7bcd40155683ae19c65e1c03b4aa3499c5328201f1"
   }
  }
 },
 "nbformat": 4,
 "nbformat_minor": 2
}
