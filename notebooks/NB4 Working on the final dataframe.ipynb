{
 "cells": [
  {
   "attachments": {},
   "cell_type": "markdown",
   "metadata": {},
   "source": [
    "# Notebook 4 - Working on the Education/Salary dataframe [🚧W.I.P.🚧]\n",
    "\n",
    "In this notebook we aim to analyse the correlation between education and salary. We will use the dataframe created in the previous notebook.\n",
    "\n",
    "Objectives:\n",
    "- Expansion of the dataframe with other data relevant to our analysis.\n",
    "- Creation of graphs\n",
    "- Chronological analysis of the correlation with possibility of forecasting"
   ]
  },
  {
   "cell_type": "code",
   "execution_count": 3,
   "metadata": {},
   "outputs": [],
   "source": [
    "#Libraries Needed\n",
    "import pandas as pd\n",
    "import numpy as np\n"
   ]
  },
  {
   "cell_type": "code",
   "execution_count": 15,
   "metadata": {},
   "outputs": [
    {
     "data": {
      "text/html": [
       "<div>\n",
       "<style scoped>\n",
       "    .dataframe tbody tr th:only-of-type {\n",
       "        vertical-align: middle;\n",
       "    }\n",
       "\n",
       "    .dataframe tbody tr th {\n",
       "        vertical-align: top;\n",
       "    }\n",
       "\n",
       "    .dataframe thead th {\n",
       "        text-align: right;\n",
       "    }\n",
       "</style>\n",
       "<table border=\"1\" class=\"dataframe\">\n",
       "  <thead>\n",
       "    <tr style=\"text-align: right;\">\n",
       "      <th></th>\n",
       "      <th>state</th>\n",
       "      <th>county</th>\n",
       "      <th>GEO_ID</th>\n",
       "      <th>Number of Educational Institutions</th>\n",
       "      <th>Percent of Population with a Bachelor's Degree</th>\n",
       "      <th>GDP per Capita 2017</th>\n",
       "    </tr>\n",
       "  </thead>\n",
       "  <tbody>\n",
       "    <tr>\n",
       "      <th>0</th>\n",
       "      <td>1</td>\n",
       "      <td>1</td>\n",
       "      <td>1001</td>\n",
       "      <td>0.0</td>\n",
       "      <td>18.273684</td>\n",
       "      <td>25.839051</td>\n",
       "    </tr>\n",
       "    <tr>\n",
       "      <th>1</th>\n",
       "      <td>1</td>\n",
       "      <td>3</td>\n",
       "      <td>1003</td>\n",
       "      <td>34.0</td>\n",
       "      <td>20.436842</td>\n",
       "      <td>27.172905</td>\n",
       "    </tr>\n",
       "    <tr>\n",
       "      <th>2</th>\n",
       "      <td>1</td>\n",
       "      <td>9</td>\n",
       "      <td>1009</td>\n",
       "      <td>3.0</td>\n",
       "      <td>18.923077</td>\n",
       "      <td>14.114381</td>\n",
       "    </tr>\n",
       "    <tr>\n",
       "      <th>3</th>\n",
       "      <td>1</td>\n",
       "      <td>15</td>\n",
       "      <td>1015</td>\n",
       "      <td>0.0</td>\n",
       "      <td>16.352941</td>\n",
       "      <td>33.422040</td>\n",
       "    </tr>\n",
       "    <tr>\n",
       "      <th>4</th>\n",
       "      <td>1</td>\n",
       "      <td>25</td>\n",
       "      <td>1025</td>\n",
       "      <td>0.0</td>\n",
       "      <td>17.007692</td>\n",
       "      <td>31.323492</td>\n",
       "    </tr>\n",
       "  </tbody>\n",
       "</table>\n",
       "</div>"
      ],
      "text/plain": [
       "   state  county  GEO_ID  Number of Educational Institutions  \\\n",
       "0      1       1    1001                                 0.0   \n",
       "1      1       3    1003                                34.0   \n",
       "2      1       9    1009                                 3.0   \n",
       "3      1      15    1015                                 0.0   \n",
       "4      1      25    1025                                 0.0   \n",
       "\n",
       "   Percent of Population with a Bachelor's Degree  GDP per Capita 2017  \n",
       "0                                       18.273684            25.839051  \n",
       "1                                       20.436842            27.172905  \n",
       "2                                       18.923077            14.114381  \n",
       "3                                       16.352941            33.422040  \n",
       "4                                       17.007692            31.323492  "
      ]
     },
     "execution_count": 15,
     "metadata": {},
     "output_type": "execute_result"
    }
   ],
   "source": [
    "# Import the csv file, gdp_and_census.csv, into a dataframe called gdp_and_census [refer to NB3 for the code to create this csv file]\n",
    "\n",
    "gdp_and_census = pd.read_csv('../data/gdp_and_census.csv')\n",
    "gdp_us_time = pd.read_csv('../data/gdp_us_over_time.csv') #contains the GDP of the US over time, adjusted for inflation\n",
    "college_percentage= pd.read_excel('../data/college_percentage.xlsx') #contains the percentage of people with a college degree in the US over time\n",
    "gdp_and_census.head()"
   ]
  },
  {
   "cell_type": "code",
   "execution_count": 9,
   "metadata": {},
   "outputs": [
    {
     "data": {
      "text/html": [
       "<div>\n",
       "<style scoped>\n",
       "    .dataframe tbody tr th:only-of-type {\n",
       "        vertical-align: middle;\n",
       "    }\n",
       "\n",
       "    .dataframe tbody tr th {\n",
       "        vertical-align: top;\n",
       "    }\n",
       "\n",
       "    .dataframe thead th {\n",
       "        text-align: right;\n",
       "    }\n",
       "</style>\n",
       "<table border=\"1\" class=\"dataframe\">\n",
       "  <thead>\n",
       "    <tr style=\"text-align: right;\">\n",
       "      <th></th>\n",
       "      <th>Entity</th>\n",
       "      <th>Code</th>\n",
       "      <th>Year</th>\n",
       "      <th>GDP per capita (constant 2015 US$)</th>\n",
       "    </tr>\n",
       "  </thead>\n",
       "  <tbody>\n",
       "    <tr>\n",
       "      <th>0</th>\n",
       "      <td>United States</td>\n",
       "      <td>USA</td>\n",
       "      <td>1960</td>\n",
       "      <td>19135.26758</td>\n",
       "    </tr>\n",
       "    <tr>\n",
       "      <th>1</th>\n",
       "      <td>United States</td>\n",
       "      <td>USA</td>\n",
       "      <td>1961</td>\n",
       "      <td>19253.54688</td>\n",
       "    </tr>\n",
       "    <tr>\n",
       "      <th>2</th>\n",
       "      <td>United States</td>\n",
       "      <td>USA</td>\n",
       "      <td>1962</td>\n",
       "      <td>20116.23438</td>\n",
       "    </tr>\n",
       "    <tr>\n",
       "      <th>3</th>\n",
       "      <td>United States</td>\n",
       "      <td>USA</td>\n",
       "      <td>1963</td>\n",
       "      <td>20701.26953</td>\n",
       "    </tr>\n",
       "    <tr>\n",
       "      <th>4</th>\n",
       "      <td>United States</td>\n",
       "      <td>USA</td>\n",
       "      <td>1964</td>\n",
       "      <td>21599.81836</td>\n",
       "    </tr>\n",
       "  </tbody>\n",
       "</table>\n",
       "</div>"
      ],
      "text/plain": [
       "          Entity Code  Year  GDP per capita (constant 2015 US$)\n",
       "0  United States  USA  1960                         19135.26758\n",
       "1  United States  USA  1961                         19253.54688\n",
       "2  United States  USA  1962                         20116.23438\n",
       "3  United States  USA  1963                         20701.26953\n",
       "4  United States  USA  1964                         21599.81836"
      ]
     },
     "execution_count": 9,
     "metadata": {},
     "output_type": "execute_result"
    }
   ],
   "source": [
    "gdp_us_time.head()"
   ]
  },
  {
   "cell_type": "code",
   "execution_count": 16,
   "metadata": {},
   "outputs": [
    {
     "data": {
      "text/html": [
       "<div>\n",
       "<style scoped>\n",
       "    .dataframe tbody tr th:only-of-type {\n",
       "        vertical-align: middle;\n",
       "    }\n",
       "\n",
       "    .dataframe tbody tr th {\n",
       "        vertical-align: top;\n",
       "    }\n",
       "\n",
       "    .dataframe thead th {\n",
       "        text-align: right;\n",
       "    }\n",
       "</style>\n",
       "<table border=\"1\" class=\"dataframe\">\n",
       "  <thead>\n",
       "    <tr style=\"text-align: right;\">\n",
       "      <th></th>\n",
       "      <th>Year</th>\n",
       "      <th>College Percentage</th>\n",
       "    </tr>\n",
       "  </thead>\n",
       "  <tbody>\n",
       "    <tr>\n",
       "      <th>0</th>\n",
       "      <td>2022</td>\n",
       "      <td>37.7</td>\n",
       "    </tr>\n",
       "    <tr>\n",
       "      <th>1</th>\n",
       "      <td>2021</td>\n",
       "      <td>37.9</td>\n",
       "    </tr>\n",
       "    <tr>\n",
       "      <th>2</th>\n",
       "      <td>2020</td>\n",
       "      <td>37.5</td>\n",
       "    </tr>\n",
       "    <tr>\n",
       "      <th>3</th>\n",
       "      <td>2019</td>\n",
       "      <td>36.0</td>\n",
       "    </tr>\n",
       "    <tr>\n",
       "      <th>4</th>\n",
       "      <td>2018</td>\n",
       "      <td>35.0</td>\n",
       "    </tr>\n",
       "  </tbody>\n",
       "</table>\n",
       "</div>"
      ],
      "text/plain": [
       "   Year  College Percentage\n",
       "0  2022                37.7\n",
       "1  2021                37.9\n",
       "2  2020                37.5\n",
       "3  2019                36.0\n",
       "4  2018                35.0"
      ]
     },
     "execution_count": 16,
     "metadata": {},
     "output_type": "execute_result"
    }
   ],
   "source": [
    "college_percentage.head()"
   ]
  },
  {
   "cell_type": "code",
   "execution_count": 21,
   "metadata": {},
   "outputs": [
    {
     "data": {
      "image/png": "[encoded data removed]",
      "text/plain": [
       "<Figure size 640x480 with 2 Axes>"
      ]
     },
     "metadata": {},
     "output_type": "display_data"
    }
   ],
   "source": [
    "#plot the GDP of the US over time and college percentage over time, using different y-axes\n",
    "import matplotlib.pyplot as plt\n",
    "fig, ax1 = plt.subplots()\n",
    "ax1.plot(gdp_us_time['Year'], gdp_us_time['GDP per capita (constant 2015 US$)'], color='red')\n",
    "ax1.set_xlabel('Year')\n",
    "ax1.set_ylabel('GDP per capita (constant 2015 US$)', color='red')\n",
    "ax1.tick_params('y', colors='red')\n",
    "ax2 = ax1.twinx()\n",
    "ax2.plot(college_percentage['Year'], college_percentage['College Percentage'], color='blue')\n",
    "ax2.set_ylabel('College Percentage', color='blue')\n",
    "ax2.tick_params('y', colors='blue')\n",
    "fig.tight_layout()\n",
    "plt.show()\n",
    "\n",
    "\n"
   ]
  },
  {
   "attachments": {},
   "cell_type": "markdown",
   "metadata": {},
   "source": [
    "A correlation is evident. But is it strictly related? Is economic increase just a common trend over time? How can we be sure that the economic increase is strictly due to the percentage of college education?\n",
    "Analysing at a county level, the correlation is more relevant. Richer counties are more educated. However, we cannot escape from a vicious circle that does not allow to understand what comes first education or income: richer counties and can afford to pay further studies to their children or individuals that have studied more earn more. "
   ]
  }
 ],
 "metadata": {
  "kernelspec": {
   "display_name": "base",
   "language": "python",
   "name": "python3"
  },
  "language_info": {
   "codemirror_mode": {
    "name": "ipython",
    "version": 3
   },
   "file_extension": ".py",
   "mimetype": "text/x-python",
   "name": "python",
   "nbconvert_exporter": "python",
   "pygments_lexer": "ipython3",
   "version": "3.9.12"
  },
  "orig_nbformat": 4
 },
 "nbformat": 4,
 "nbformat_minor": 2
}
